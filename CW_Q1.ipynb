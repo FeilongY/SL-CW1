{
 "cells": [
  {
   "cell_type": "code",
   "execution_count": 1,
   "id": "9a1ca3b0",
   "metadata": {},
   "outputs": [],
   "source": [
    "import numpy as np\n",
    "import matplotlib.pyplot as plt\n"
   ]
  },
  {
   "cell_type": "code",
   "execution_count": 2,
   "id": "7fe6aaab",
   "metadata": {},
   "outputs": [],
   "source": [
    "#data set\n",
    "x = [1,2,3,4]\n",
    "y = [3,2,0,5]"
   ]
  },
  {
   "cell_type": "code",
   "execution_count": 3,
   "id": "c3f94f5b",
   "metadata": {},
   "outputs": [],
   "source": [
    "#model\n",
    "def model(x,k):\n",
    "    model_entry = np.zeros(shape=(len(x),k))   #initiate model matrix\n",
    "    #set in model\n",
    "    column_num = 0   #matrix column number\n",
    "    for element in (x):\n",
    "        row_vector = []\n",
    "        for i in range(k):     \n",
    "            row_vector.append(element ** i)   #quadratic model\n",
    "        model_entry[column_num] = row_vector \n",
    "        column_num = column_num + 1\n",
    "    return model_entry      "
   ]
  },
  {
   "cell_type": "code",
   "execution_count": 4,
   "id": "3a45cf12",
   "metadata": {},
   "outputs": [],
   "source": [
    "def fit_para(x,y,k):   #calculate parameter vector\n",
    "    model_ini = model(x,k)\n",
    "    model_transpose = np.transpose(model_ini)\n",
    "    product_1 = np.matmul(model_transpose,model_ini)\n",
    "    inverse = np.linalg.inv(product_1)\n",
    "    product_2 = np.matmul(inverse, model_transpose)\n",
    "    return np.matmul(product_2, y)"
   ]
  },
  {
   "cell_type": "code",
   "execution_count": 5,
   "id": "ae40563b",
   "metadata": {},
   "outputs": [],
   "source": [
    "#plot the graph_yvalues wrt each k\n",
    "def graph_yvalue(para, k):\n",
    "    #create vectors of a and b for model\n",
    "    a = np.arange(0,5,0.01)\n",
    "    b = []\n",
    "    for element in (a):\n",
    "        b_value = 0\n",
    "        for i in range (k):\n",
    "            b_value += para[i] * (element ** i)\n",
    "        b.append(b_value)    \n",
    "    return b"
   ]
  },
  {
   "cell_type": "code",
   "execution_count": 6,
   "id": "980c3db7",
   "metadata": {},
   "outputs": [
    {
     "data": {
      "image/png": "[encoded data removed]",
      "text/plain": [
       "<Figure size 432x288 with 1 Axes>"
      ]
     },
     "metadata": {
      "needs_background": "light"
     },
     "output_type": "display_data"
    }
   ],
   "source": [
    "#Ans 1a\n",
    "\n",
    "\n",
    "para1_1 = fit_para(x,y,k=1)   #models with different k\n",
    "para1_2 = fit_para(x,y,k=2)\n",
    "para1_3 = fit_para(x,y,k=3)\n",
    "para1_4 = fit_para(x,y,k=4)\n",
    "\n",
    "#configuration of plot\n",
    "plt.xlim(0,5)\n",
    "plt.ylim(-5,10)\n",
    "plt.xlabel('x')\n",
    "plt.ylabel('y')\n",
    "\n",
    "plt.scatter(x,y)   #scatter plot of data\n",
    "\n",
    "x_value = np.arange(0,5,0.01)   #sample x points to generate linear regression\n",
    "plt.plot(x_value, graph_yvalue(para1_1,k=1))\n",
    "plt.plot(x_value, graph_yvalue(para1_2,k=2))\n",
    "plt.plot(x_value, graph_yvalue(para1_3,k=3))\n",
    "plt.plot(x_value, graph_yvalue(para1_4,k=4))\n",
    "\n",
    "plt.axhline(y=0, color='k', linestyle='--')   #axis line\n",
    "\n",
    "plt.legend(labels = ['k=1','k=2','k=3','k=4'])\n",
    "plt.show()"
   ]
  },
  {
   "cell_type": "code",
   "execution_count": 7,
   "id": "ce52c5aa",
   "metadata": {},
   "outputs": [
    {
     "name": "stdout",
     "output_type": "stream",
     "text": [
      "k=1 [2.5] \n",
      " k=2 [1.5 0.4] \n",
      " k=3 [ 9.  -7.1  1.5] \n",
      " k=4 [-5.         15.16666667 -8.5         1.33333333]\n"
     ]
    }
   ],
   "source": [
    "#Ans 1b\n",
    "\n",
    "\n",
    "para1 = fit_para(x,y,1)   #k=1\n",
    "para2 = fit_para(x,y,2)   #k=2\n",
    "para3 = fit_para(x,y,3)   #k=3\n",
    "para4 = fit_para(x,y,4)   #k=4\n",
    "\n",
    "print('k=1',para1,'\\n','k=2',para2,'\\n','k=3',para3,'\\n','k=4',para4)"
   ]
  },
  {
   "cell_type": "code",
   "execution_count": 19,
   "id": "6b9bdef7",
   "metadata": {},
   "outputs": [],
   "source": [
    "#calculate MSE\n",
    "\n",
    "def mse(m,n,k):\n",
    "    feature_map = model(m,k)   #feature_map can include test data\n",
    "    sum_of_square = 0\n",
    "    para = fit_para(x,y,k)   #para vector only rely on training data\n",
    "    for i in range (len(m)):\n",
    "        sum_of_square += np.square(n[i] - np.matmul(feature_map[i], para))\n",
    "    return sum_of_square/len(m)\n"
   ]
  },
  {
   "cell_type": "code",
   "execution_count": 20,
   "id": "27305d62",
   "metadata": {},
   "outputs": [
    {
     "name": "stdout",
     "output_type": "stream",
     "text": [
      "k=1 3.25 \n",
      " k=2 3.0500000000000003 \n",
      " k=3 0.7999999999999998 \n",
      " k=4 1.4662163214890336e-25\n"
     ]
    }
   ],
   "source": [
    "#Ans 1c\n",
    "\n",
    "mse1 = mse(x,y,1)\n",
    "mse2 = mse(x,y,2)\n",
    "mse3 = mse(x,y,3)\n",
    "mse4 = mse(x,y,4)\n",
    "print('k=1',mse1,'\\n','k=2',mse2,'\\n','k=3',mse3,'\\n','k=4',mse4)"
   ]
  },
  {
   "cell_type": "code",
   "execution_count": null,
   "id": "984f32db",
   "metadata": {},
   "outputs": [],
   "source": []
  },
  {
   "cell_type": "code",
   "execution_count": null,
   "id": "1f1ef2bf",
   "metadata": {},
   "outputs": [],
   "source": []
  }
 ],
 "metadata": {
  "kernelspec": {
   "display_name": "Python 3",
   "language": "python",
   "name": "python3"
  },
  "language_info": {
   "codemirror_mode": {
    "name": "ipython",
    "version": 3
   },
   "file_extension": ".py",
   "mimetype": "text/x-python",
   "name": "python",
   "nbconvert_exporter": "python",
   "pygments_lexer": "ipython3",
   "version": "3.8.8"
  }
 },
 "nbformat": 4,
 "nbformat_minor": 5
}
